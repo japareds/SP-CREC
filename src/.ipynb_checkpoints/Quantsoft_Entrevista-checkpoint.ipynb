{
 "cells": [
  {
   "cell_type": "markdown",
   "id": "10280d11-a488-4965-8727-44a78c6306f2",
   "metadata": {},
   "source": [
    "# Entrevista Quantsoft"
   ]
  },
  {
   "cell_type": "markdown",
   "id": "b488d25f-0bd4-4cd3-8db0-cf3a211685eb",
   "metadata": {},
   "source": [
    "# Pregunta 1\n",
    "Teniendo una secuencia de caracteres, encontrar el número de veces que se repite cada caracter"
   ]
  },
  {
   "cell_type": "markdown",
   "id": "4b81740c-1ae0-4bab-a2b5-e3bd196a05c4",
   "metadata": {},
   "source": [
    "La función determina los caracteres únicos dentro de la secuencia y la cantidad de veces que ocurren dentro de ella."
   ]
  },
  {
   "cell_type": "code",
   "execution_count": 1,
   "id": "bcb7a992-6079-4aa3-9583-70ae28f2ee85",
   "metadata": {},
   "outputs": [],
   "source": [
    "def character_count(sequence=''):\n",
    "    \"\"\"\n",
    "    Count number of occurrences each char repets in a sequence\n",
    "\n",
    "    Args:\n",
    "        sequence (str, optional): sequence of characters\n",
    "\n",
    "    Returns:\n",
    "        dict with counter for each character\n",
    "    \"\"\"\n",
    "    unique_chars = list(set(sequence))\n",
    "    counter = {i:0 for i in unique_chars}\n",
    "    for c in counter:\n",
    "        counter[c] = sequence.count(c)\n",
    "    return counter\n"
   ]
  },
  {
   "cell_type": "markdown",
   "id": "6c65836c-bf48-4999-a1c3-04487b6c8813",
   "metadata": {},
   "source": [
    "Usamos una secuencia de ejemplo"
   ]
  },
  {
   "cell_type": "code",
   "execution_count": 15,
   "id": "8a16e390-0b19-4db1-a52e-bfc0a14fda92",
   "metadata": {},
   "outputs": [
    {
     "name": "stdout",
     "output_type": "stream",
     "text": [
      "{'j': 6, 'n': 1, 'q': 2, 'e': 2, 'w': 1, 'o': 5, 'f': 1, 'u': 1, 'g': 1, '3': 2, 'i': 3, 'h': 1, 'r': 1, 'k': 6, '1': 3, 'd': 7, 'm': 1, 'a': 6, 's': 6, 'l': 1, ',': 2, '2': 2}\n"
     ]
    }
   ],
   "source": [
    "sequence=\"hgfasdoneqkjdkjqoidsjka1321123oijjksddsomkas,adkljasd,aoiurew\"\n",
    "counter = character_count(sequence)\n",
    "print(counter)"
   ]
  },
  {
   "cell_type": "markdown",
   "id": "a94fbf44-31b2-47e0-bda8-532af67cad81",
   "metadata": {},
   "source": [
    "Visualizamos el diccionario con cada caracter y el número de ocurrencias"
   ]
  },
  {
   "cell_type": "markdown",
   "id": "6b182e70-5dfa-4c8d-8f83-79c9446ff60d",
   "metadata": {},
   "source": [
    "# Pregunta 2"
   ]
  },
  {
   "cell_type": "markdown",
   "id": "9c9b3cea-0fb6-4761-96d2-03f460ccf39b",
   "metadata": {},
   "source": [
    "Implementar una función que retorne la cadena de caracteres inversa.\n",
    "La implementación itera sobre los índices de la secuencia en orden inverso y construye una nueva secuencia"
   ]
  },
  {
   "cell_type": "code",
   "execution_count": 10,
   "id": "699c115d-7190-4f07-bc66-e856fb9fe81e",
   "metadata": {},
   "outputs": [],
   "source": [
    "def reverse_sequence_lazy(sequence=''):\n",
    "    # iterate over sequence indices and create a new array that stores the characters in reversed order\n",
    "    sequence_reversed = ''\n",
    "    for i in range(len(sequence)-1,-1,-1):\n",
    "        sequence_reversed+=sequence[i]\n",
    "    return sequence_reversed"
   ]
  },
  {
   "cell_type": "markdown",
   "id": "785f3e66-a90b-496e-9029-770050d0cf2f",
   "metadata": {},
   "source": [
    "Testeamos con una secuencia de ejemplo"
   ]
  },
  {
   "cell_type": "code",
   "execution_count": 11,
   "id": "981340e7-1731-4354-ac55-63f118ef1e5c",
   "metadata": {},
   "outputs": [
    {
     "name": "stdout",
     "output_type": "stream",
     "text": [
      "weruioa,dsajlkda,sakmosddskjjio3211231akjsdioqjkdjkqenodsafgh\n"
     ]
    }
   ],
   "source": [
    "sequence=\"hgfasdoneqkjdkjqoidsjka1321123oijjksddsomkas,adkljasd,aoiurew\"\n",
    "sequence_reversed = reverse_sequence_lazy(sequence)\n",
    "print(sequence_reversed)"
   ]
  },
  {
   "cell_type": "markdown",
   "id": "110f5551-e4c7-407e-89f2-280d228f730c",
   "metadata": {},
   "source": [
    "# Pregunta 3"
   ]
  },
  {
   "cell_type": "markdown",
   "id": "ad15bf21-3480-4f37-89f6-fddc57878dca",
   "metadata": {},
   "source": [
    "Implementar un algoritmo que rite una matriz en 90 grados."
   ]
  },
  {
   "cell_type": "code",
   "execution_count": 13,
   "id": "8fb2f22d-bb1d-4240-8406-751203bc5ccb",
   "metadata": {},
   "outputs": [],
   "source": [
    "def matrix_rotation(matrix=[[0,1,2],[3,4,5]]):\n",
    "    \"\"\" List comprehension for returning the rotated matrix\"\"\"\n",
    "    return [[matrix[j][i] for j in range(len(matrix))] for i in range(len(matrix[0])-1,-1,-1)]\n"
   ]
  },
  {
   "cell_type": "markdown",
   "id": "19a1129a-5ddb-4b91-9c33-f9aa83854e86",
   "metadata": {},
   "source": [
    "Testeamos con una matriz de ejemplo"
   ]
  },
  {
   "cell_type": "code",
   "execution_count": 14,
   "id": "3c59217c-eb2d-4d56-9a45-8e76c3468be9",
   "metadata": {},
   "outputs": [
    {
     "name": "stdout",
     "output_type": "stream",
     "text": [
      "Original matrix:[[1, 2, 3, 4, 5], [6, 7, 8, 9, 0]]\n",
      "Rotated matrix: [[5, 0], [4, 9], [3, 8], [2, 7], [1, 6]]\n"
     ]
    }
   ],
   "source": [
    "matrix = [[1,2,3,4,5],[6,7,8,9,0]]\n",
    "print(f'Original matrix:{matrix}')\n",
    "rotated_matrix = matrix_rotation(matrix)\n",
    "print(f'Rotated matrix: {rotated_matrix}')"
   ]
  },
  {
   "cell_type": "markdown",
   "id": "7eb4994f-d710-4748-82ea-42cd2994dcec",
   "metadata": {},
   "source": [
    "# Pregunta 4"
   ]
  },
  {
   "cell_type": "markdown",
   "id": "a4883c8e-5303-47c7-ad77-ea59763d7382",
   "metadata": {},
   "source": [
    "Implementar una función que reciba un número par positivo N y devuelva la suma de dos números primos tal que su suma sea N.\n",
    "Basado en el métodos de Eratosthenes para determinar números primos"
   ]
  },
  {
   "cell_type": "code",
   "execution_count": 38,
   "id": "ab65f0d2-253c-458c-ac31-4ab828ed8fec",
   "metadata": {},
   "outputs": [],
   "source": [
    "def eratosthenes_prime_numbers(n):\n",
    "    \"\"\" Return a list of prime numbers up to n\"\"\"\n",
    "    prime_numbers = list (range(2, n+1))\n",
    "    for i in prime_numbers:\n",
    "        j=2\n",
    "        while i*j<= prime_numbers[-1]:\n",
    "            if i*j in prime_numbers:\n",
    "                prime_numbers.remove(i*j)\n",
    "            j=j+1\n",
    "    prime_numbers.remove(2)\n",
    "    return prime_numbers"
   ]
  },
  {
   "cell_type": "markdown",
   "id": "5b27344c-7603-44b9-8c73-b4a844c72fca",
   "metadata": {},
   "source": [
    "Probamos el método con un breve ejemplo"
   ]
  },
  {
   "cell_type": "code",
   "execution_count": 39,
   "id": "7d6f8796-9680-4fd7-8359-cbdd47240b54",
   "metadata": {},
   "outputs": [
    {
     "name": "stdout",
     "output_type": "stream",
     "text": [
      "Prime numbers up to 15: [3, 5, 7, 11, 13]\n"
     ]
    }
   ],
   "source": [
    "n = 15\n",
    "print(f'Prime numbers up to {n}: {eratosthenes_prime_numbers(n)}')"
   ]
  },
  {
   "cell_type": "markdown",
   "id": "8078de36-168e-4e9d-a3f1-9b86aea2c01e",
   "metadata": {},
   "source": [
    "Implementamos la función de Goldbach"
   ]
  },
  {
   "cell_type": "code",
   "execution_count": 53,
   "id": "df940bad-c904-4d17-bc38-1eb337a0dc43",
   "metadata": {},
   "outputs": [],
   "source": [
    "def goldbach(N):\n",
    "    n1 = 0\n",
    "    n2 = 0\n",
    "    result_sum = 0\n",
    "    if N % 2 == 0: # check number is even\n",
    "        prime_numbers = eratosthenes(N)\n",
    "        while result != N:\n",
    "            # iterate over list of prime numbers\n",
    "            for i in range(len(prime_numbers)):\n",
    "                if result_sum == N: \n",
    "                    break \n",
    "                n1 = prime_numbers[i]\n",
    "                # iterate again over list of prime numbers\n",
    "                for j in range(len(prime_numbers)):\n",
    "                    n2 = prime_numbers[j]\n",
    "                    result_sum = n1 + n2\n",
    "                    # check if selected prime numbers equal N\n",
    "                    if result_sum == N:\n",
    "                        break \n",
    "    return [n1,n2]\n"
   ]
  },
  {
   "cell_type": "code",
   "execution_count": null,
   "id": "4462fc17-427f-4036-84bb-891f7c558ba9",
   "metadata": {},
   "outputs": [],
   "source": [
    "N=4\n",
    "numbers = goldbach(N)"
   ]
  },
  {
   "cell_type": "code",
   "execution_count": null,
   "id": "30da277b-21b5-4a75-8cc2-70f528bdb168",
   "metadata": {},
   "outputs": [],
   "source": []
  }
 ],
 "metadata": {
  "kernelspec": {
   "display_name": "Python 3 (ipykernel)",
   "language": "python",
   "name": "python3"
  },
  "language_info": {
   "codemirror_mode": {
    "name": "ipython",
    "version": 3
   },
   "file_extension": ".py",
   "mimetype": "text/x-python",
   "name": "python",
   "nbconvert_exporter": "python",
   "pygments_lexer": "ipython3",
   "version": "3.11.3"
  }
 },
 "nbformat": 4,
 "nbformat_minor": 5
}
